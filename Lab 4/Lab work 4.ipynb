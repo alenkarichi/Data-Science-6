{
 "cells": [
  {
   "cell_type": "markdown",
   "metadata": {},
   "source": [
    "___\n",
    "\n",
    "<a href='https://mainacademy.ua/'> <img src='https://mainacademy.ua/wp-content/uploads/2019/03/logo-main.png' alt = 'Хмм, щось з інтернетом'/></a>\n",
    "___\n",
    "\n",
    "# Module 4: Work with data professionally!"
   ]
  },
  {
   "cell_type": "markdown",
   "metadata": {},
   "source": [
    "## Lab work 4\n",
    "\n"
   ]
  },
  {
   "cell_type": "markdown",
   "metadata": {},
   "source": [
    "#### Мета: \n",
    "\n",
    "* навчитися обробляти дані\n",
    "* \"парсити\" сайти"
   ]
  },
  {
   "cell_type": "markdown",
   "metadata": {},
   "source": [
    "### Завдання 1:"
   ]
  },
  {
   "cell_type": "markdown",
   "metadata": {},
   "source": [
    "#### Ознайомитися із API Національного банку \n",
    "https://old.bank.gov.ua/control/uk/publish/article?art_id=38441973&cat_id=38459171#exchange\n",
    "\n"
   ]
  },
  {
   "cell_type": "markdown",
   "metadata": {},
   "source": [
    "1. Підключитися до API.\n"
   ]
  },
  {
   "cell_type": "code",
   "execution_count": 1,
   "metadata": {},
   "outputs": [
    {
     "name": "stdout",
     "output_type": "stream",
     "text": [
      "True\n"
     ]
    }
   ],
   "source": [
    "import requests\n",
    "\n",
    "r = requests.get('https://bank.gov.ua/NBUStatService/v1/statdirectory/exchange?json')\n",
    "if r.status_code == 200:\n",
    "    print(True)\n",
    "else:\n",
    "    print(False)"
   ]
  },
  {
   "cell_type": "markdown",
   "metadata": {},
   "source": [
    "2. Отримати курс долара за останній рік."
   ]
  },
  {
   "cell_type": "code",
   "execution_count": 1,
   "metadata": {},
   "outputs": [
    {
     "name": "stdout",
     "output_type": "stream",
     "text": [
      "Курс USD за останній рік становить 27.722214246575344\n"
     ]
    }
   ],
   "source": [
    "from datetime import datetime, timedelta\n",
    "from statistics import mean\n",
    "\n",
    "import requests\n",
    "\n",
    "BASE = [] \n",
    "\n",
    "def con_to_api(date):\n",
    "    param = {'date' : date.strftime('%Y%m%d'), 'valcode' : 'USD'}\n",
    "    r = requests.get('https://bank.gov.ua/NBUStatService/v1/statdirectory/exchange?json', params=param)\n",
    "    if r.status_code == 200:\n",
    "        return r.json()[0]['rate']\n",
    "    return None\n",
    "\n",
    "\n",
    "def union_info(qty):\n",
    "    \n",
    "    date = datetime.today()\n",
    "    \n",
    "    for i in range(qty):\n",
    "        date = date - timedelta(days=1)\n",
    "        rate = con_to_api(date)\n",
    "        BASE.append(rate)\n",
    "\n",
    "\n",
    "if __name__ == '__main__':\n",
    "    qty = 365\n",
    "    union_info(qty)\n",
    "    print(f'Курс USD за останній рік становить {mean(BASE)}')"
   ]
  },
  {
   "cell_type": "markdown",
   "metadata": {},
   "source": [
    "### або такий розвязок (залежно від того, як трактувати завдання)"
   ]
  },
  {
   "cell_type": "code",
   "execution_count": 2,
   "metadata": {},
   "outputs": [
    {
     "name": "stdout",
     "output_type": "stream",
     "text": [
      "{datetime.date(2021, 4, 21): 28.0096, datetime.date(2021, 4, 20): 28.0087, datetime.date(2021, 4, 19): 27.9783, datetime.date(2021, 4, 18): 27.9592, datetime.date(2021, 4, 17): 27.9592, datetime.date(2021, 4, 16): 27.9592, datetime.date(2021, 4, 15): 27.9765, datetime.date(2021, 4, 14): 28.0156, datetime.date(2021, 4, 13): 27.9335, datetime.date(2021, 4, 12): 27.9094, datetime.date(2021, 4, 11): 27.9768, datetime.date(2021, 4, 10): 27.9768, datetime.date(2021, 4, 9): 27.9768, datetime.date(2021, 4, 8): 27.8923, datetime.date(2021, 4, 7): 27.8384, datetime.date(2021, 4, 6): 27.939, datetime.date(2021, 4, 5): 27.9555, datetime.date(2021, 4, 4): 27.8324, datetime.date(2021, 4, 3): 27.8324, datetime.date(2021, 4, 2): 27.8324, datetime.date(2021, 4, 1): 27.8226, datetime.date(2021, 3, 31): 27.8852, datetime.date(2021, 3, 30): 27.9694, datetime.date(2021, 3, 29): 27.9679, datetime.date(2021, 3, 28): 27.9698, datetime.date(2021, 3, 27): 27.9698, datetime.date(2021, 3, 26): 27.9698, datetime.date(2021, 3, 25): 27.8706, datetime.date(2021, 3, 24): 27.7295, datetime.date(2021, 3, 23): 27.6871, datetime.date(2021, 3, 22): 27.7184, datetime.date(2021, 3, 21): 27.6828, datetime.date(2021, 3, 20): 27.6828, datetime.date(2021, 3, 19): 27.6828, datetime.date(2021, 3, 18): 27.6978, datetime.date(2021, 3, 17): 27.6525, datetime.date(2021, 3, 16): 27.6434, datetime.date(2021, 3, 15): 27.7305, datetime.date(2021, 3, 14): 27.7486, datetime.date(2021, 3, 13): 27.7486, datetime.date(2021, 3, 12): 27.7486, datetime.date(2021, 3, 11): 27.7016, datetime.date(2021, 3, 10): 27.7431, datetime.date(2021, 3, 9): 27.7091, datetime.date(2021, 3, 8): 27.7564, datetime.date(2021, 3, 7): 27.7564, datetime.date(2021, 3, 6): 27.7564, datetime.date(2021, 3, 5): 27.7564, datetime.date(2021, 3, 4): 27.8477, datetime.date(2021, 3, 3): 27.933, datetime.date(2021, 3, 2): 28.0007, datetime.date(2021, 3, 1): 27.9456, datetime.date(2021, 2, 28): 27.9301, datetime.date(2021, 2, 27): 27.9301, datetime.date(2021, 2, 26): 27.9301, datetime.date(2021, 2, 25): 27.9492, datetime.date(2021, 2, 24): 27.8976, datetime.date(2021, 2, 23): 27.9304, datetime.date(2021, 2, 22): 27.8468, datetime.date(2021, 2, 21): 27.8461, datetime.date(2021, 2, 20): 27.8461, datetime.date(2021, 2, 19): 27.8461, datetime.date(2021, 2, 18): 27.9038, datetime.date(2021, 2, 17): 27.8304, datetime.date(2021, 2, 16): 27.9671, datetime.date(2021, 2, 15): 27.844, datetime.date(2021, 2, 14): 27.8384, datetime.date(2021, 2, 13): 27.8384, datetime.date(2021, 2, 12): 27.8384, datetime.date(2021, 2, 11): 27.7665, datetime.date(2021, 2, 10): 27.6426, datetime.date(2021, 2, 9): 27.6651, datetime.date(2021, 2, 8): 27.7711, datetime.date(2021, 2, 7): 27.8885, datetime.date(2021, 2, 6): 27.8885, datetime.date(2021, 2, 5): 27.8885, datetime.date(2021, 2, 4): 27.995, datetime.date(2021, 2, 3): 28.0589, datetime.date(2021, 2, 2): 28.0603, datetime.date(2021, 2, 1): 28.1324, datetime.date(2021, 1, 31): 28.1929, datetime.date(2021, 1, 30): 28.1929, datetime.date(2021, 1, 29): 28.1929, datetime.date(2021, 1, 28): 28.1652, datetime.date(2021, 1, 27): 28.1524, datetime.date(2021, 1, 26): 28.1665, datetime.date(2021, 1, 25): 28.1648, datetime.date(2021, 1, 24): 28.2561, datetime.date(2021, 1, 23): 28.2561, datetime.date(2021, 1, 22): 28.2561, datetime.date(2021, 1, 21): 28.2035, datetime.date(2021, 1, 20): 28.1544, datetime.date(2021, 1, 19): 28.1926, datetime.date(2021, 1, 18): 28.0524, datetime.date(2021, 1, 17): 28.0524, datetime.date(2021, 1, 16): 28.0524, datetime.date(2021, 1, 15): 28.0609, datetime.date(2021, 1, 14): 27.9705, datetime.date(2021, 1, 13): 28.046, datetime.date(2021, 1, 12): 28.2038, datetime.date(2021, 1, 11): 28.2847, datetime.date(2021, 1, 10): 28.4028, datetime.date(2021, 1, 9): 28.4028, datetime.date(2021, 1, 8): 28.4028, datetime.date(2021, 1, 7): 28.4028, datetime.date(2021, 1, 6): 28.4028, datetime.date(2021, 1, 5): 28.431, datetime.date(2021, 1, 4): 28.2746, datetime.date(2021, 1, 3): 28.2746, datetime.date(2021, 1, 2): 28.2746, datetime.date(2021, 1, 1): 28.2746, datetime.date(2020, 12, 31): 28.2746, datetime.date(2020, 12, 30): 28.2605, datetime.date(2020, 12, 29): 28.3668, datetime.date(2020, 12, 28): 28.3547, datetime.date(2020, 12, 27): 28.4551, datetime.date(2020, 12, 26): 28.4551, datetime.date(2020, 12, 25): 28.4551, datetime.date(2020, 12, 24): 28.4551, datetime.date(2020, 12, 23): 28.2513, datetime.date(2020, 12, 22): 28.0391, datetime.date(2020, 12, 21): 27.828, datetime.date(2020, 12, 20): 27.8184, datetime.date(2020, 12, 19): 27.8184, datetime.date(2020, 12, 18): 27.8184, datetime.date(2020, 12, 17): 27.7373, datetime.date(2020, 12, 16): 27.759, datetime.date(2020, 12, 15): 27.8661, datetime.date(2020, 12, 14): 27.9666, datetime.date(2020, 12, 13): 28.075, datetime.date(2020, 12, 12): 28.075, datetime.date(2020, 12, 11): 28.075, datetime.date(2020, 12, 10): 28.0406, datetime.date(2020, 12, 9): 28.0828, datetime.date(2020, 12, 8): 28.2394, datetime.date(2020, 12, 7): 28.2913, datetime.date(2020, 12, 6): 28.3038, datetime.date(2020, 12, 5): 28.3038, datetime.date(2020, 12, 4): 28.3038, datetime.date(2020, 12, 3): 28.4367, datetime.date(2020, 12, 2): 28.5583, datetime.date(2020, 12, 1): 28.4962, datetime.date(2020, 11, 30): 28.4681, datetime.date(2020, 11, 29): 28.4428, datetime.date(2020, 11, 28): 28.4428, datetime.date(2020, 11, 27): 28.4428, datetime.date(2020, 11, 26): 28.3816, datetime.date(2020, 11, 25): 28.3741, datetime.date(2020, 11, 24): 28.3694, datetime.date(2020, 11, 23): 28.3553, datetime.date(2020, 11, 22): 28.2572, datetime.date(2020, 11, 21): 28.2572, datetime.date(2020, 11, 20): 28.2572, datetime.date(2020, 11, 19): 28.13, datetime.date(2020, 11, 18): 28.1067, datetime.date(2020, 11, 17): 28.112, datetime.date(2020, 11, 16): 28.1158, datetime.date(2020, 11, 15): 28.1963, datetime.date(2020, 11, 14): 28.1963, datetime.date(2020, 11, 13): 28.1963, datetime.date(2020, 11, 12): 28.161, datetime.date(2020, 11, 11): 28.1206, datetime.date(2020, 11, 10): 28.1116, datetime.date(2020, 11, 9): 28.1375, datetime.date(2020, 11, 8): 28.3643, datetime.date(2020, 11, 7): 28.3643, datetime.date(2020, 11, 6): 28.3643, datetime.date(2020, 11, 5): 28.5074, datetime.date(2020, 11, 4): 28.6, datetime.date(2020, 11, 3): 28.5827, datetime.date(2020, 11, 2): 28.4507, datetime.date(2020, 11, 1): 28.4383, datetime.date(2020, 10, 31): 28.4383, datetime.date(2020, 10, 30): 28.4383, datetime.date(2020, 10, 29): 28.3989, datetime.date(2020, 10, 28): 28.3655, datetime.date(2020, 10, 27): 28.3352, datetime.date(2020, 10, 26): 28.2911, datetime.date(2020, 10, 25): 28.265, datetime.date(2020, 10, 24): 28.265, datetime.date(2020, 10, 23): 28.265, datetime.date(2020, 10, 22): 28.2737, datetime.date(2020, 10, 21): 28.3707, datetime.date(2020, 10, 20): 28.3762, datetime.date(2020, 10, 19): 28.3649, datetime.date(2020, 10, 18): 28.3365, datetime.date(2020, 10, 17): 28.3365, datetime.date(2020, 10, 16): 28.3365, datetime.date(2020, 10, 15): 28.3164, datetime.date(2020, 10, 14): 28.2481, datetime.date(2020, 10, 13): 28.2481, datetime.date(2020, 10, 12): 28.2098, datetime.date(2020, 10, 11): 28.2836, datetime.date(2020, 10, 10): 28.2836, datetime.date(2020, 10, 9): 28.2836, datetime.date(2020, 10, 8): 28.324, datetime.date(2020, 10, 7): 28.3639, datetime.date(2020, 10, 6): 28.4009, datetime.date(2020, 10, 5): 28.3408, datetime.date(2020, 10, 4): 28.3343, datetime.date(2020, 10, 3): 28.3343, datetime.date(2020, 10, 2): 28.3343, datetime.date(2020, 10, 1): 28.3105, datetime.date(2020, 9, 30): 28.2989, datetime.date(2020, 9, 29): 28.3062, datetime.date(2020, 9, 28): 28.2673, datetime.date(2020, 9, 27): 28.2487, datetime.date(2020, 9, 26): 28.2487, datetime.date(2020, 9, 25): 28.2487, datetime.date(2020, 9, 24): 28.1874, datetime.date(2020, 9, 23): 28.2059, datetime.date(2020, 9, 22): 28.2022, datetime.date(2020, 9, 21): 28.1718, datetime.date(2020, 9, 20): 28.1127, datetime.date(2020, 9, 19): 28.1127, datetime.date(2020, 9, 18): 28.1127, datetime.date(2020, 9, 17): 28.1195, datetime.date(2020, 9, 16): 28.0556, datetime.date(2020, 9, 15): 28.0003, datetime.date(2020, 9, 14): 27.9003, datetime.date(2020, 9, 13): 27.8346, datetime.date(2020, 9, 12): 27.8346, datetime.date(2020, 9, 11): 27.8346, datetime.date(2020, 9, 10): 27.8296, datetime.date(2020, 9, 9): 27.8032, datetime.date(2020, 9, 8): 27.7509, datetime.date(2020, 9, 7): 27.7325, datetime.date(2020, 9, 6): 27.6908, datetime.date(2020, 9, 5): 27.6908, datetime.date(2020, 9, 4): 27.6908, datetime.date(2020, 9, 3): 27.6428, datetime.date(2020, 9, 2): 27.6049, datetime.date(2020, 9, 1): 27.5618, datetime.date(2020, 8, 31): 27.4759, datetime.date(2020, 8, 30): 27.4615, datetime.date(2020, 8, 29): 27.4615, datetime.date(2020, 8, 28): 27.4615, datetime.date(2020, 8, 27): 27.386, datetime.date(2020, 8, 26): 27.4383, datetime.date(2020, 8, 25): 27.3942, datetime.date(2020, 8, 24): 27.4812, datetime.date(2020, 8, 23): 27.4812, datetime.date(2020, 8, 22): 27.4812, datetime.date(2020, 8, 21): 27.4812, datetime.date(2020, 8, 20): 27.316, datetime.date(2020, 8, 19): 27.2297, datetime.date(2020, 8, 18): 27.3061, datetime.date(2020, 8, 17): 27.3474, datetime.date(2020, 8, 16): 27.4083, datetime.date(2020, 8, 15): 27.4083, datetime.date(2020, 8, 14): 27.4083, datetime.date(2020, 8, 13): 27.5266, datetime.date(2020, 8, 12): 27.5982, datetime.date(2020, 8, 11): 27.6007, datetime.date(2020, 8, 10): 27.6486, datetime.date(2020, 8, 9): 27.6793, datetime.date(2020, 8, 8): 27.6793, datetime.date(2020, 8, 7): 27.6793, datetime.date(2020, 8, 6): 27.7028, datetime.date(2020, 8, 5): 27.8225, datetime.date(2020, 8, 4): 27.7365, datetime.date(2020, 8, 3): 27.6798, datetime.date(2020, 8, 2): 27.6913, datetime.date(2020, 8, 1): 27.6913, datetime.date(2020, 7, 31): 27.6913, datetime.date(2020, 7, 30): 27.6867, datetime.date(2020, 7, 29): 27.6851, datetime.date(2020, 7, 28): 27.7571, datetime.date(2020, 7, 27): 27.7559, datetime.date(2020, 7, 26): 27.8779, datetime.date(2020, 7, 25): 27.8779, datetime.date(2020, 7, 24): 27.8779, datetime.date(2020, 7, 23): 27.7798, datetime.date(2020, 7, 22): 27.6647, datetime.date(2020, 7, 21): 27.6011, datetime.date(2020, 7, 20): 27.3606, datetime.date(2020, 7, 19): 27.2738, datetime.date(2020, 7, 18): 27.2738, datetime.date(2020, 7, 17): 27.2738, datetime.date(2020, 7, 16): 27.119, datetime.date(2020, 7, 15): 27.1436, datetime.date(2020, 7, 14): 27.0883, datetime.date(2020, 7, 13): 26.9505, datetime.date(2020, 7, 12): 26.9335, datetime.date(2020, 7, 11): 26.9335, datetime.date(2020, 7, 10): 26.9335, datetime.date(2020, 7, 9): 26.9514, datetime.date(2020, 7, 8): 26.9309, datetime.date(2020, 7, 7): 27.1269, datetime.date(2020, 7, 6): 27.1716, datetime.date(2020, 7, 5): 27.1801, datetime.date(2020, 7, 4): 27.1801, datetime.date(2020, 7, 3): 27.1801, datetime.date(2020, 7, 2): 26.77, datetime.date(2020, 7, 1): 26.6676, datetime.date(2020, 6, 30): 26.6922, datetime.date(2020, 6, 29): 26.7002, datetime.date(2020, 6, 28): 26.7002, datetime.date(2020, 6, 27): 26.7002, datetime.date(2020, 6, 26): 26.7002, datetime.date(2020, 6, 25): 26.6509, datetime.date(2020, 6, 24): 26.6078, datetime.date(2020, 6, 23): 26.6695, datetime.date(2020, 6, 22): 26.7207, datetime.date(2020, 6, 21): 26.7633, datetime.date(2020, 6, 20): 26.7633, datetime.date(2020, 6, 19): 26.7633, datetime.date(2020, 6, 18): 26.776, datetime.date(2020, 6, 17): 26.7424, datetime.date(2020, 6, 16): 26.844, datetime.date(2020, 6, 15): 26.7303, datetime.date(2020, 6, 14): 26.5999, datetime.date(2020, 6, 13): 26.5999, datetime.date(2020, 6, 12): 26.5999, datetime.date(2020, 6, 11): 26.6367, datetime.date(2020, 6, 10): 26.6412, datetime.date(2020, 6, 9): 26.6005, datetime.date(2020, 6, 8): 26.6953, datetime.date(2020, 6, 7): 26.6953, datetime.date(2020, 6, 6): 26.6953, datetime.date(2020, 6, 5): 26.6953, datetime.date(2020, 6, 4): 26.7544, datetime.date(2020, 6, 3): 26.7955, datetime.date(2020, 6, 2): 26.8181, datetime.date(2020, 6, 1): 26.8685, datetime.date(2020, 5, 31): 26.9059, datetime.date(2020, 5, 30): 26.9059, datetime.date(2020, 5, 29): 26.9059, datetime.date(2020, 5, 28): 27.0002, datetime.date(2020, 5, 27): 26.9029, datetime.date(2020, 5, 26): 26.8742, datetime.date(2020, 5, 25): 26.7556, datetime.date(2020, 5, 24): 26.7699, datetime.date(2020, 5, 23): 26.7699, datetime.date(2020, 5, 22): 26.7699, datetime.date(2020, 5, 21): 26.5854, datetime.date(2020, 5, 20): 26.5159, datetime.date(2020, 5, 19): 26.571, datetime.date(2020, 5, 18): 26.638, datetime.date(2020, 5, 17): 26.6792, datetime.date(2020, 5, 16): 26.6792, datetime.date(2020, 5, 15): 26.6792, datetime.date(2020, 5, 14): 26.6897, datetime.date(2020, 5, 13): 26.7947, datetime.date(2020, 5, 12): 26.8196, datetime.date(2020, 5, 11): 26.8185, datetime.date(2020, 5, 10): 26.8185, datetime.date(2020, 5, 9): 26.8185, datetime.date(2020, 5, 8): 26.8185, datetime.date(2020, 5, 7): 26.9323, datetime.date(2020, 5, 6): 26.9774, datetime.date(2020, 5, 5): 26.9749, datetime.date(2020, 5, 4): 26.9592, datetime.date(2020, 5, 3): 26.9714, datetime.date(2020, 5, 2): 26.9714, datetime.date(2020, 5, 1): 26.9714, datetime.date(2020, 4, 30): 26.9714, datetime.date(2020, 4, 29): 27.0485, datetime.date(2020, 4, 28): 27.1025, datetime.date(2020, 4, 27): 27.1441, datetime.date(2020, 4, 26): 27.0137, datetime.date(2020, 4, 25): 27.0137, datetime.date(2020, 4, 24): 27.0137, datetime.date(2020, 4, 23): 27.0536, datetime.date(2020, 4, 22): 27.0815, datetime.date(2020, 4, 21): 27.0774}\n"
     ]
    }
   ],
   "source": [
    "import datetime\n",
    "\n",
    "today = datetime.date.today()\n",
    "rates = {}\n",
    "\n",
    "for i in range(0, 366):\n",
    "    day = today - datetime.timedelta(i)\n",
    "    params    = {'date' : day.strftime('%Y%m%d')}\n",
    "    \n",
    "    r = requests.get('https://bank.gov.ua/NBUStatService/v1/statdirectory/exchange?valcode=USD&json', params).json()\n",
    "    \n",
    "    rates[day] = r[0]['rate']\n",
    "    \n",
    "print(rates)"
   ]
  },
  {
   "cell_type": "markdown",
   "metadata": {},
   "source": [
    "3. Вивести середнє значення та відхилення курсу за кожний місяць."
   ]
  },
  {
   "cell_type": "code",
   "execution_count": 3,
   "metadata": {
    "scrolled": true
   },
   "outputs": [
    {
     "name": "stdout",
     "output_type": "stream",
     "text": [
      "Введіть місяць для аналітики: 2\n",
      "Введіть рік для аналітики: 2021\n",
      "Середнє значення USD за Feb 2021 року становить = 27.884660714285715\n",
      "Відхилення курсу USD за Feb 2021 року становить = 0.10439519125243588\n"
     ]
    }
   ],
   "source": [
    "from datetime import date, timedelta, datetime\n",
    "from statistics import mean, pstdev\n",
    "\n",
    "import requests\n",
    "\n",
    "BASE = [] \n",
    "\n",
    "def con_to_api(date):\n",
    "    param = {'date' : date.strftime('%Y%m%d'), 'valcode' : 'USD'}\n",
    "    r = requests.get('https://bank.gov.ua/NBUStatService/v1/statdirectory/exchange?json', params=param)\n",
    "    if r.status_code == 200:\n",
    "        return r.json()[0]['rate']\n",
    "    return None\n",
    "\n",
    "def period(month, year):\n",
    "    day = timedelta(days=1)\n",
    "    date1 = date(year, month, 1)\n",
    "    dates = []\n",
    "    d = date1\n",
    "    while d.month == month:\n",
    "        dates.append(d)\n",
    "        d += day\n",
    "    return dates\n",
    "\n",
    "def union_info(m, y):\n",
    "    \n",
    "    dates = period(m, y)\n",
    "    \n",
    "    for d in dates:\n",
    "        rate = con_to_api(d)\n",
    "        BASE.append(rate)\n",
    "\n",
    "\n",
    "if __name__ == '__main__':\n",
    "    month = int(input('Введіть місяць для аналітики: '))\n",
    "    year = int(input('Введіть рік для аналітики: '))\n",
    "    union_info(month, year)\n",
    "    month_name = \"Jan Feb Mar Apr May Jun Jul Aug Sep Oct Nov Dec\".split()[month-1]\n",
    "    s1 = f\"Середнє значення USD за {month_name} {year} року становить = {mean(BASE)}\"\n",
    "    s2 = f\"Відхилення курсу USD за {month_name} {year} року становить = {pstdev(BASE)}\"\n",
    "    print(s1)\n",
    "    print(s2)\n",
    "    result = [s1, s2]"
   ]
  },
  {
   "cell_type": "markdown",
   "metadata": {},
   "source": [
    "4. Дану інформацію записати у файл за допомогою pickle."
   ]
  },
  {
   "cell_type": "code",
   "execution_count": 5,
   "metadata": {},
   "outputs": [],
   "source": [
    "import pickle\n",
    "\n",
    "Lab_4 = open(\"Lab_4.pickle\", \"wb\")\n",
    "pickle.dump(result, Lab_4)\n",
    "Lab_4.close()\n"
   ]
  },
  {
   "cell_type": "code",
   "execution_count": 6,
   "metadata": {},
   "outputs": [
    {
     "name": "stdout",
     "output_type": "stream",
     "text": [
      "['Середнє значення USD за Feb 2021 року становить = 27.884660714285715', 'Відхилення курсу USD за Feb 2021 року становить = 0.10439519125243588']\n"
     ]
    }
   ],
   "source": [
    "import pickle\n",
    "\n",
    "pickle_off = open(\"Lab_4.pickle\",\"rb\")\n",
    "Lab4 = pickle.load(pickle_off)\n",
    "pickle_off.close()\n",
    "print(Lab4)"
   ]
  },
  {
   "cell_type": "markdown",
   "metadata": {},
   "source": [
    "### Завдання 2:"
   ]
  },
  {
   "cell_type": "markdown",
   "metadata": {},
   "source": [
    "Потрібно проаналізувати всі товари на сайті: \n",
    "https://smallpacking.agrosem.ua/shop/"
   ]
  },
  {
   "cell_type": "markdown",
   "metadata": {},
   "source": [
    "Створіть базу даних, що містить таблицю із такими стовбцями: \n",
    "    - артикул товару\n",
    "    - найменування\n",
    "    - ціна \n",
    "    - вага"
   ]
  },
  {
   "cell_type": "code",
   "execution_count": 216,
   "metadata": {},
   "outputs": [],
   "source": [
    "import sqlite3\n",
    "\n",
    "conn = sqlite3.connect('my_data.sqlite3')\n",
    "conn.close()\n",
    "\n",
    "conn = sqlite3.connect('my_data.sqlite3')\n",
    "curs = conn.cursor()\n",
    "\n",
    "script = \"\"\"CREATE TABLE product ( \n",
    "                product_code TEXT NOT NULL PRIMARY KEY,\n",
    "                product_name TEXT NOT NULL,\n",
    "                price REAL NOT NULL,\n",
    "                weight TEXT NOT NULL\n",
    "                ) \n",
    "                \"\"\"\n",
    "\n",
    "curs.executescript(script)\n",
    "conn.close()"
   ]
  },
  {
   "cell_type": "code",
   "execution_count": 217,
   "metadata": {},
   "outputs": [],
   "source": [
    "HEADERS = {\n",
    "            'User-Agent': 'Mozilla/5.0 (Windows NT 6.1; WOW64; rv:49.0) Gecko/20100101 Firefox/49.0',\n",
    "            'Accept': 'text/html,application/xhtml+xml,application/xml;q=0.9,*/*;q=0.8',\n",
    "            'Accept-Language': 'en-US,en;q=0.5',\n",
    "            'Accept-Encoding': 'gzip, deflate',\n",
    "            'DNT': '1',\n",
    "            'Connection': 'keep-alive',\n",
    "            'Upgrade-Insecure-Requests': '1'\n",
    "        }\n",
    "\n",
    "import requests\n",
    "from bs4 import BeautifulSoup\n",
    "\n",
    "BASE = []\n",
    "\n",
    "SITE = 'https://smallpacking.agrosem.ua/shop/'\n",
    "\n",
    "r = requests.get(SITE, headers = HEADERS)\n",
    "\n",
    "if r.status_code == 200:\n",
    "    soup = BeautifulSoup(r.text, 'lxml')\n",
    "    \n",
    "    for el in soup.find('div', class_ = \"product-category-wrapper\").find_all('div', class_ = \"product-from-category-container\"):\n",
    "        product_name = el.find('span', class_ = \"pruduct-name-bottom\").text\n",
    "        unformatted_price = el.find('span', class_ = \"regular-price\").text.split('грн')\n",
    "        price = int(unformatted_price[0].replace(' ',''))\n",
    "        link = el.find('a', class_ = \"more-detail\").get('href')\n",
    "        \n",
    "        r_2 = requests.get(link, headers = HEADERS)\n",
    "        \n",
    "        if r_2.status_code == 200:\n",
    "            soup_2 = BeautifulSoup(r_2.text, 'lxml')\n",
    "            \n",
    "            for s in soup_2.find_all('div', class_= \"product-container\"):\n",
    "                product_code = s.find('span', class_= \"sku\").text.split(' ')[1].replace('SKU: ','')\n",
    "                \n",
    "            for w in soup_2.find_all('tr', class_ = \"woocommerce-product-attributes-item woocommerce-product-attributes-item--attribute_pa_fasovka-dobriv\"):\n",
    "                weight = w.find('td', class_ = \"woocommerce-product-attributes-item__value\").text\n",
    "                \n",
    "            BASE = [ (product_code, product_name, price, weight) ]\n",
    "            \n",
    "            for product_info in BASE:\n",
    "                conn = sqlite3.connect('my_data.sqlite3')\n",
    "                curs = conn.cursor()\n",
    "\n",
    "                s = \"INSERT INTO product VALUES (?, ?, ?, ?)\"\n",
    "                try:\n",
    "                    curs.execute(s, product_info)\n",
    "                    conn.commit()\n",
    "                except Exception as e:\n",
    "                    print(e)\n",
    "\n",
    "                conn.close()"
   ]
  },
  {
   "cell_type": "markdown",
   "metadata": {},
   "source": [
    "### Завдання 3: "
   ]
  },
  {
   "cell_type": "markdown",
   "metadata": {},
   "source": [
    "Ознайомтеся із роботою SQLite та відповідним модулем у Python.\n",
    "Завантажте базу даних для виконання лабораторної роботи.\n",
    "Підключіться до завантаженої бази SQLite."
   ]
  },
  {
   "cell_type": "markdown",
   "metadata": {},
   "source": [
    "1. Виведіть інформацію про дану базу."
   ]
  },
  {
   "cell_type": "code",
   "execution_count": 220,
   "metadata": {},
   "outputs": [
    {
     "name": "stdout",
     "output_type": "stream",
     "text": [
      "[('Customers',), ('sqlite_autoindex_Customers_1',), ('OrderItems',), ('sqlite_autoindex_OrderItems_1',), ('Orders',), ('sqlite_autoindex_Orders_1',), ('Products',), ('sqlite_autoindex_Products_1',), ('Vendors',), ('sqlite_autoindex_Vendors_1',)]\n"
     ]
    }
   ],
   "source": [
    "import sqlite3\n",
    "\n",
    "def data_base():\n",
    "    con = sqlite3.connect('tysql.sqlite')\n",
    "    cur = con.cursor()\n",
    "    cur.execute(\"SELECT name FROM sqlite_master\")\n",
    "    info = cur.fetchall()\n",
    "    print(info)\n",
    "    con.close()\n",
    "    \n",
    "data_base()"
   ]
  },
  {
   "cell_type": "markdown",
   "metadata": {},
   "source": [
    "2. Виведіть перелік всіх таблиць."
   ]
  },
  {
   "cell_type": "code",
   "execution_count": 202,
   "metadata": {},
   "outputs": [
    {
     "name": "stdout",
     "output_type": "stream",
     "text": [
      "[('Customers',), ('OrderItems',), ('Orders',), ('Products',), ('Vendors',)]\n"
     ]
    }
   ],
   "source": [
    "import sqlite3\n",
    "\n",
    "def tables():\n",
    "    con = sqlite3.connect('tysql.sqlite')\n",
    "    cur = con.cursor()\n",
    "    cur.execute(\"SELECT name FROM sqlite_master WHERE type='table'\")\n",
    "    info = cur.fetchall()\n",
    "    print(info)\n",
    "    con.close()\n",
    "    \n",
    "tables()"
   ]
  },
  {
   "cell_type": "markdown",
   "metadata": {},
   "source": [
    "3. Список всіх cust_id з таблиці Customers table."
   ]
  },
  {
   "cell_type": "code",
   "execution_count": 94,
   "metadata": {},
   "outputs": [
    {
     "data": {
      "text/plain": [
       "['1000000001', '1000000002', '1000000003', '1000000004', '1000000005']"
      ]
     },
     "execution_count": 94,
     "metadata": {},
     "output_type": "execute_result"
    }
   ],
   "source": [
    "import sqlite3\n",
    "\n",
    "def cust_id():\n",
    "    cust_id_list = []\n",
    "    \n",
    "    conn = sqlite3.connect('tysql.sqlite')\n",
    "    curs = conn.cursor()\n",
    "    s = \"SELECT cust_id FROM Customers\"\n",
    "    for el in curs.execute(s).fetchall():\n",
    "        cust_id_list.append(el[0])\n",
    "    conn.close()\n",
    "    \n",
    "    return cust_id_list\n",
    "    \n",
    "cust_id()"
   ]
  },
  {
   "cell_type": "markdown",
   "metadata": {},
   "source": [
    "4. Всю таблицю Customers table"
   ]
  },
  {
   "cell_type": "code",
   "execution_count": 100,
   "metadata": {},
   "outputs": [
    {
     "name": "stdout",
     "output_type": "stream",
     "text": [
      "[('1000000001', 'Village Toys', '200 Maple Lane', 'Detroit', 'MI', '44444', 'USA', 'John Smith', 'sales@villagetoys.com'), ('1000000002', 'Kids Place', '333 South Lake Drive', 'Columbus', 'OH', '43333', 'USA', 'Michelle Green', None), ('1000000003', 'Fun4All', '1 Sunny Place', 'Muncie', 'IN', '42222', 'USA', 'Jim Jones', 'jjones@fun4all.com'), ('1000000004', 'Fun4All', '829 Riverside Drive', 'Phoenix', 'AZ', '88888', 'USA', 'Denise L. Stephens', 'dstephens@fun4all.com'), ('1000000005', 'The Toy Store', '4545 53rd Street', 'Chicago', 'IL', '54545', 'USA', 'Kim Howard', None)]\n"
     ]
    }
   ],
   "source": [
    "import sqlite3\n",
    "\n",
    "def data_base():\n",
    "    conn = sqlite3.connect('tysql.sqlite')\n",
    "    curs = conn.cursor()\n",
    "    curs.execute(\"SELECT * FROM Customers\")\n",
    "\n",
    "    print(curs.fetchall())\n",
    "    conn.close()\n",
    "    \n",
    "data_base()"
   ]
  },
  {
   "cell_type": "markdown",
   "metadata": {},
   "source": [
    "5. Список клієнтів (cust_names) відсортованих від Z до A"
   ]
  },
  {
   "cell_type": "code",
   "execution_count": 108,
   "metadata": {},
   "outputs": [
    {
     "data": {
      "text/plain": [
       "['Village Toys', 'The Toy Store', 'Kids Place', 'Fun4All', 'Fun4All']"
      ]
     },
     "execution_count": 108,
     "metadata": {},
     "output_type": "execute_result"
    }
   ],
   "source": [
    "import sqlite3\n",
    "\n",
    "def cust_name():\n",
    "    cust_name_list = []\n",
    "    \n",
    "    conn = sqlite3.connect('tysql.sqlite')\n",
    "    curs = conn.cursor()\n",
    "    l = \"SELECT cust_name FROM Customers ORDER BY cust_name DESC\"\n",
    "    for el in curs.execute(l).fetchall():\n",
    "        cust_name_list.append(el[0])\n",
    "    conn.close()\n",
    "    \n",
    "    return cust_name_list\n",
    "\n",
    "cust_name()"
   ]
  },
  {
   "cell_type": "markdown",
   "metadata": {},
   "source": [
    "6. Таблицю клієнтів та замовлень (cust_id і order_num) . Відсортуйте по клієнту і потім по даті замовлення"
   ]
  },
  {
   "cell_type": "code",
   "execution_count": 112,
   "metadata": {},
   "outputs": [
    {
     "name": "stdout",
     "output_type": "stream",
     "text": [
      "[(20009, '2012-02-08', '1000000001'), (20005, '2012-05-01', '1000000001'), (20006, '2012-01-12', '1000000003'), (20007, '2012-01-30', '1000000004'), (20008, '2012-02-03', '1000000005')]\n"
     ]
    }
   ],
   "source": [
    "import sqlite3\n",
    "\n",
    "def orders():\n",
    "    conn = sqlite3.connect('tysql.sqlite')\n",
    "    curs = conn.cursor()\n",
    "    curs.execute(\"SELECT * FROM Orders ORDER BY cust_id, order_date\")\n",
    "\n",
    "    print(curs.fetchall())\n",
    "    conn.close()\n",
    "\n",
    "orders()"
   ]
  },
  {
   "cell_type": "markdown",
   "metadata": {},
   "source": [
    "7. Таблицю (на основі Items) з кількість та вартістю товару. Відсортуйте в порядку спадання по кількості та вартості"
   ]
  },
  {
   "cell_type": "code",
   "execution_count": 121,
   "metadata": {},
   "outputs": [
    {
     "name": "stdout",
     "output_type": "stream",
     "text": [
      "[(250, 2.49), (250, 2.49), (250, 2.49), (100, 10.99), (100, 5.49), (100, 2.99), (100, 2.99), (100, 2.99), (50, 11.49), (50, 4.49), (20, 5.99), (10, 11.99), (10, 8.99), (10, 3.49), (10, 3.49), (10, 3.49), (5, 11.99), (5, 4.99)]\n"
     ]
    }
   ],
   "source": [
    "import sqlite3\n",
    "\n",
    "def items():\n",
    "    conn = sqlite3.connect('tysql.sqlite')\n",
    "    curs = conn.cursor()\n",
    "    curs.execute(\"SELECT quantity, item_price FROM OrderItems ORDER BY quantity DESC, item_price DESC\")\n",
    "\n",
    "    print(curs.fetchall())\n",
    "    conn.close()\n",
    "\n",
    "items()"
   ]
  },
  {
   "cell_type": "markdown",
   "metadata": {},
   "source": [
    "8. Товар (з таблиці Products), ціна якого становить 9.49"
   ]
  },
  {
   "cell_type": "code",
   "execution_count": 122,
   "metadata": {},
   "outputs": [
    {
     "name": "stdout",
     "output_type": "stream",
     "text": [
      "[('RYL01', 'King doll'), ('RYL02', 'Queen doll')]\n"
     ]
    }
   ],
   "source": [
    "import sqlite3\n",
    "\n",
    "def prod():\n",
    "    conn = sqlite3.connect('tysql.sqlite')\n",
    "    curs = conn.cursor()\n",
    "    curs.execute(\"SELECT prod_id, prod_name FROM Products WHERE prod_price = 9.49\")\n",
    "\n",
    "    print(curs.fetchall())\n",
    "    conn.close()\n",
    "\n",
    "prod()"
   ]
  },
  {
   "cell_type": "markdown",
   "metadata": {},
   "source": [
    "9. Виведіть назву товару та ціну, яка лежить в діапазоні від  3 до 6. Відсортуйте результат в по ціні в порядку зростання"
   ]
  },
  {
   "cell_type": "code",
   "execution_count": 125,
   "metadata": {},
   "outputs": [
    {
     "name": "stdout",
     "output_type": "stream",
     "text": [
      "[('Fish bean bag toy', 3.49), ('Bird bean bag toy', 3.49), ('Rabbit bean bag toy', 3.49), ('Raggedy Ann', 4.99), ('8 inch teddy bear', 5.99)]\n"
     ]
    }
   ],
   "source": [
    "import sqlite3\n",
    "\n",
    "def products():\n",
    "    conn = sqlite3.connect('tysql.sqlite')\n",
    "    curs = conn.cursor()\n",
    "    curs.execute(\"SELECT prod_name, prod_price FROM Products WHERE prod_price BETWEEN 3 AND 6 ORDER BY prod_price\")\n",
    "\n",
    "    print(curs.fetchall())\n",
    "    conn.close()\n",
    "\n",
    "products()"
   ]
  },
  {
   "cell_type": "markdown",
   "metadata": {},
   "source": [
    "10. Кількість товару, що було продано"
   ]
  },
  {
   "cell_type": "code",
   "execution_count": 130,
   "metadata": {},
   "outputs": [
    {
     "name": "stdout",
     "output_type": "stream",
     "text": [
      "[('BNBG01', 360), ('BNBG02', 360), ('BNBG03', 360), ('BR01', 120), ('BR02', 10), ('BR03', 165), ('RGAN01', 55)]\n"
     ]
    }
   ],
   "source": [
    "import sqlite3\n",
    "\n",
    "def sales():\n",
    "    conn = sqlite3.connect('tysql.sqlite')\n",
    "    curs = conn.cursor()\n",
    "    curs.execute(\"SELECT prod_id, SUM(quantity) FROM OrderItems GROUP BY prod_id\")\n",
    "\n",
    "    print(curs.fetchall())\n",
    "    conn.close()\n",
    "\n",
    "sales()"
   ]
  },
  {
   "cell_type": "markdown",
   "metadata": {},
   "source": [
    "11. Кількість найменувань товару, ціна якого більша за 4"
   ]
  },
  {
   "cell_type": "code",
   "execution_count": 133,
   "metadata": {},
   "outputs": [
    {
     "name": "stdout",
     "output_type": "stream",
     "text": [
      "6\n"
     ]
    }
   ],
   "source": [
    "import sqlite3\n",
    "\n",
    "def count():\n",
    "    conn = sqlite3.connect('tysql.sqlite')\n",
    "    curs = conn.cursor()\n",
    "    s = \"SELECT COUNT(DISTINCT prod_name) FROM Products WHERE prod_price > 4\"\n",
    "    for el in curs.execute(s).fetchall():\n",
    "        print(el[0])\n",
    "    conn.close()\n",
    "\n",
    "count()"
   ]
  },
  {
   "cell_type": "markdown",
   "metadata": {},
   "source": [
    "12. Розробіть алгоритм для виведення 3 найдорожчих товарів в базі"
   ]
  },
  {
   "cell_type": "code",
   "execution_count": 134,
   "metadata": {},
   "outputs": [
    {
     "name": "stdout",
     "output_type": "stream",
     "text": [
      "[('BR03', '18 inch teddy bear'), ('RYL01', 'King doll'), ('RYL02', 'Queen doll')]\n"
     ]
    }
   ],
   "source": [
    "import sqlite3\n",
    "\n",
    "def top():\n",
    "    conn = sqlite3.connect('tysql.sqlite')\n",
    "    curs = conn.cursor()\n",
    "    curs.execute(\"SELECT prod_id, prod_name FROM Products ORDER BY prod_price DESC LIMIT 3\")\n",
    "\n",
    "    print(curs.fetchall())\n",
    "    conn.close()\n",
    "\n",
    "top()"
   ]
  },
  {
   "cell_type": "markdown",
   "metadata": {},
   "source": [
    "13. Підрахуйте кількість замовлень для кожного клієнта використовуючи підзапити"
   ]
  },
  {
   "cell_type": "code",
   "execution_count": 138,
   "metadata": {},
   "outputs": [
    {
     "name": "stdout",
     "output_type": "stream",
     "text": [
      "[('1000000001', 'Village Toys', 2), ('1000000003', 'Fun4All', 1), ('1000000004', 'Fun4All', 1), ('1000000005', 'The Toy Store', 1)]\n"
     ]
    }
   ],
   "source": [
    "import sqlite3\n",
    "\n",
    "def order():\n",
    "    conn = sqlite3.connect('tysql.sqlite')\n",
    "    curs = conn.cursor()\n",
    "    curs.execute(\"SELECT cust_id, cust_name, COUNT(order_num) FROM Orders INNER JOIN Customers USING (cust_id) GROUP BY cust_id\")\n",
    "\n",
    "    print(curs.fetchall())\n",
    "    conn.close()\n",
    "\n",
    "order()"
   ]
  },
  {
   "cell_type": "markdown",
   "metadata": {},
   "source": [
    "14. Виведіть список клієнтів та їх замовлення (використайте JOIN)"
   ]
  },
  {
   "cell_type": "code",
   "execution_count": 145,
   "metadata": {
    "scrolled": true
   },
   "outputs": [
    {
     "name": "stdout",
     "output_type": "stream",
     "text": [
      "[('1000000001', 'Village Toys', 20005), ('1000000003', 'Fun4All', 20006), ('1000000004', 'Fun4All', 20007), ('1000000005', 'The Toy Store', 20008), ('1000000001', 'Village Toys', 20009)]\n"
     ]
    }
   ],
   "source": [
    "import sqlite3\n",
    "\n",
    "def order_():\n",
    "    conn = sqlite3.connect('tysql.sqlite')\n",
    "    curs = conn.cursor()\n",
    "    curs.execute(\"SELECT cust_id, cust_name, order_num FROM Orders INNER JOIN Customers USING (cust_id) GROUP BY order_num\")\n",
    "\n",
    "    print(curs.fetchall())\n",
    "    conn.close()\n",
    "\n",
    "order_()"
   ]
  },
  {
   "cell_type": "markdown",
   "metadata": {},
   "source": [
    "15. Зробіть два запити: список товарів, ціна яких менша 5 та список товарів, ціна який більша рівна 5. Використайте UNION для об'єднання цих запитів"
   ]
  },
  {
   "cell_type": "code",
   "execution_count": 152,
   "metadata": {},
   "outputs": [
    {
     "name": "stdout",
     "output_type": "stream",
     "text": [
      "[('Bird bean bag toy', 3.49), ('Fish bean bag toy', 3.49), ('Rabbit bean bag toy', 3.49), ('Raggedy Ann', 4.99), ('8 inch teddy bear', 5.99), ('12 inch teddy bear', 8.99), ('King doll', 9.49), ('Queen doll', 9.49), ('18 inch teddy bear', 11.99)]\n"
     ]
    }
   ],
   "source": [
    "import sqlite3\n",
    "\n",
    "def products_():\n",
    "    conn = sqlite3.connect('tysql.sqlite')\n",
    "    curs = conn.cursor()\n",
    "    curs.execute(\"SELECT prod_name, prod_price FROM Products WHERE prod_price < 5 UNION SELECT prod_name, prod_price FROM Products WHERE prod_price >= 5 ORDER BY prod_price\")\n",
    "\n",
    "    print(curs.fetchall())\n",
    "    conn.close()\n",
    "\n",
    "products_()"
   ]
  },
  {
   "cell_type": "markdown",
   "metadata": {},
   "source": [
    "### Завдання 4: "
   ]
  },
  {
   "cell_type": "markdown",
   "metadata": {},
   "source": [
    "Зареєструйтеся на сайті  http://www.sql-ex.ru/\n",
    "\n",
    "Виконайте завдання із блоку SELECT; з 1 по 30 завдання\n",
    "\n",
    "Код запитів вставляйте сюди\n"
   ]
  },
  {
   "cell_type": "code",
   "execution_count": 56,
   "metadata": {},
   "outputs": [],
   "source": [
    "## Зробила скріни із виконаними завданнями¶"
   ]
  }
 ],
 "metadata": {
  "kernelspec": {
   "display_name": "Python 3",
   "language": "python",
   "name": "python3"
  },
  "language_info": {
   "codemirror_mode": {
    "name": "ipython",
    "version": 3
   },
   "file_extension": ".py",
   "mimetype": "text/x-python",
   "name": "python",
   "nbconvert_exporter": "python",
   "pygments_lexer": "ipython3",
   "version": "3.8.5"
  }
 },
 "nbformat": 4,
 "nbformat_minor": 2
}
