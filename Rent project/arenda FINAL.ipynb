{
 "cells": [
  {
   "cell_type": "code",
   "execution_count": 27,
   "metadata": {},
   "outputs": [],
   "source": [
    "import sqlite3\n",
    "\n",
    "conn = sqlite3.connect('arenda.sqlite3')\n",
    "conn.close()\n",
    "\n",
    "conn = sqlite3.connect('arenda.sqlite3')\n",
    "curs = conn.cursor()\n",
    "\n",
    "script = \"\"\"CREATE TABLE object ( \n",
    "                id_object TEXT NOT NULL PRIMARY KEY,\n",
    "                object_region TEXT,\n",
    "                object_square REAL NOT NULL,\n",
    "                rooms_number REAL NOT NULL,\n",
    "                floor REAL,\n",
    "                subway TEXT,\n",
    "                living_complex TEXT,\n",
    "                price REAL\n",
    "                ) \n",
    "                \"\"\"\n",
    "\n",
    "curs.executescript(script)\n",
    "conn.close()"
   ]
  },
  {
   "cell_type": "code",
   "execution_count": 30,
   "metadata": {
    "scrolled": true
   },
   "outputs": [],
   "source": [
    "HEADERS = {\n",
    "            'User-Agent': 'Mozilla/5.0 (Windows NT 6.1; WOW64; rv:49.0) Gecko/20100101 Firefox/49.0',\n",
    "            'Accept': 'text/html,application/xhtml+xml,application/xml;q=0.9,*/*;q=0.8',\n",
    "            'Accept-Language': 'en-US,en;q=0.5',\n",
    "            'Accept-Encoding': 'gzip, deflate',\n",
    "            'DNT': '1',\n",
    "            'Connection': 'keep-alive',\n",
    "            'Upgrade-Insecure-Requests': '1'\n",
    "        }\n",
    "\n",
    "import requests\n",
    "from bs4 import BeautifulSoup\n",
    "\n",
    "BASE = []\n",
    "for page in range (1,430):\n",
    "    SITE = f'https://100realty.ua/realty_search/apartment/rent/nr_1%2C2%2C3%2C4%2C5_/p_5000_/cur_3/kch_2?page={page}'\n",
    "\n",
    "    r = requests.get(SITE, headers = HEADERS)\n",
    "\n",
    "    if r.status_code == 200:\n",
    "        soup = BeautifulSoup(r.text, 'lxml')\n",
    "        \n",
    "        for el in soup.find_all('div', class_ = \"object-common-wrapper\"): \n",
    "            id_ = el.find('div', class_ = \"object-address\")\n",
    "            id_object = id_.find('a').get('href').replace('/object/','')\n",
    "            link = 'https://100realty.ua/' + id_.find('a').get('href')\n",
    "            \n",
    "            try:\n",
    "                object_region = el.find('div', class_ = \"object-region\").text.split(', ')[1].replace('\\n','')\n",
    "            except IndexError as e:\n",
    "                object_region = None\n",
    "                \n",
    "            object_square = el.find('div', class_ = \"object-square object-info-item\").text.replace('Площадь (общая):','').replace(' м²','').replace('\\n','')\n",
    "            \n",
    "            rooms_number = el.find('div', class_ = \"object-rooms object-info-item\").text.replace('Кол-во комнат:','').replace('\\n','')\n",
    "            \n",
    "            fl = el.find('div', class_ = \"object-floors object-info-item\")\n",
    "            if fl is not None:\n",
    "                floor = fl.find('div', class_ = \"value\").text.split('/')[0]\n",
    "            else:\n",
    "                floor = None\n",
    "                \n",
    "            s = el.find('div', class_ = \"area\")\n",
    "            if s is not None:\n",
    "                subway = s.find('span').text.replace('\\n','')\n",
    "            else:\n",
    "                subway = None\n",
    "            \n",
    "            v = el.find('div', class_ = \"object-resident object-info-item\") \n",
    "            if v is not None:\n",
    "                living_complex = v.find('div', class_ = \"value\").text\n",
    "            else:\n",
    "                living_complex = None\n",
    "                \n",
    "            pr = el.find('div', class_ = \"cost-field\") \n",
    "            unformatted_price = pr.find('span').text.replace(' грн./месяц','').replace('*','')\n",
    "            price = int(unformatted_price.replace(' ',''))\n",
    "    \n",
    "            BASE = [ (id_object, object_region, object_square, rooms_number, floor, subway, living_complex, price) ]\n",
    "        \n",
    "            for object_info in BASE:\n",
    "                conn = sqlite3.connect('arenda.sqlite3')\n",
    "                curs = conn.cursor()\n",
    "\n",
    "                p = \"INSERT INTO object VALUES (?, ?, ?, ?, ?, ?, ?, ?)\"\n",
    "                try:\n",
    "                    curs.execute(p, object_info)\n",
    "                    conn.commit()\n",
    "                except Exception as e:\n",
    "                    print(e)\n",
    "\n",
    "                conn.close()"
   ]
  },
  {
   "cell_type": "code",
   "execution_count": 323,
   "metadata": {
    "scrolled": true
   },
   "outputs": [
    {
     "name": "stdout",
     "output_type": "stream",
     "text": [
      "   id_object       object_region  object_square  rooms_number floor  \\\n",
      "0  375726424                None          228.0           7.0  None   \n",
      "1  375708417   Соломенский район          160.0           3.0  None   \n",
      "2  375687794  Голосеевский район          125.0           3.0  None   \n",
      "3  375594849     Печерский район          118.0           3.0  None   \n",
      "4  375335493     Печерский район          150.0           3.0  None   \n",
      "\n",
      "                                              subway     living_complex  \\\n",
      "0  метро Площадь Льва Толстого, метро Олимпийская...               None   \n",
      "1                                               None               None   \n",
      "2  метро Олимпийская (Республиканский стадион), м...  Парк-холл Горький   \n",
      "3                                    метро Печерская               None   \n",
      "4  метро Майдан Незалежности, метро Арсенальная, ...      Липская Башня   \n",
      "\n",
      "      price  \n",
      "0  166000.0  \n",
      "1   44200.0  \n",
      "2   49800.0  \n",
      "3   71900.0  \n",
      "4  138000.0  \n"
     ]
    }
   ],
   "source": [
    "import pandas as pd\n",
    "import sqlite3\n",
    "\n",
    "con = sqlite3.connect(\"arenda.sqlite3\")\n",
    "df = pd.read_sql_query(\"SELECT * from object\", con)\n",
    "\n",
    "print(df.head())\n",
    "\n",
    "con.close()"
   ]
  },
  {
   "cell_type": "code",
   "execution_count": 324,
   "metadata": {},
   "outputs": [
    {
     "name": "stdout",
     "output_type": "stream",
     "text": [
      "<class 'pandas.core.frame.DataFrame'>\n",
      "RangeIndex: 8580 entries, 0 to 8579\n",
      "Data columns (total 8 columns):\n",
      " #   Column          Non-Null Count  Dtype  \n",
      "---  ------          --------------  -----  \n",
      " 0   id_object       8580 non-null   object \n",
      " 1   object_region   8077 non-null   object \n",
      " 2   object_square   8580 non-null   float64\n",
      " 3   rooms_number    8580 non-null   float64\n",
      " 4   floor           4502 non-null   object \n",
      " 5   subway          5370 non-null   object \n",
      " 6   living_complex  2966 non-null   object \n",
      " 7   price           8580 non-null   float64\n",
      "dtypes: float64(3), object(5)\n",
      "memory usage: 536.4+ KB\n"
     ]
    }
   ],
   "source": [
    "df.info()"
   ]
  },
  {
   "cell_type": "code",
   "execution_count": 325,
   "metadata": {},
   "outputs": [
    {
     "data": {
      "text/html": [
       "<div>\n",
       "<style scoped>\n",
       "    .dataframe tbody tr th:only-of-type {\n",
       "        vertical-align: middle;\n",
       "    }\n",
       "\n",
       "    .dataframe tbody tr th {\n",
       "        vertical-align: top;\n",
       "    }\n",
       "\n",
       "    .dataframe thead th {\n",
       "        text-align: right;\n",
       "    }\n",
       "</style>\n",
       "<table border=\"1\" class=\"dataframe\">\n",
       "  <thead>\n",
       "    <tr style=\"text-align: right;\">\n",
       "      <th></th>\n",
       "      <th>id_object</th>\n",
       "      <th>object_region</th>\n",
       "      <th>object_square</th>\n",
       "      <th>rooms_number</th>\n",
       "      <th>floor</th>\n",
       "      <th>subway</th>\n",
       "      <th>living_complex</th>\n",
       "      <th>price</th>\n",
       "    </tr>\n",
       "  </thead>\n",
       "  <tbody>\n",
       "    <tr>\n",
       "      <th>0</th>\n",
       "      <td>375726424</td>\n",
       "      <td>None</td>\n",
       "      <td>228.0</td>\n",
       "      <td>7.0</td>\n",
       "      <td>None</td>\n",
       "      <td>метро Площадь Льва Толстого, метро Олимпийская...</td>\n",
       "      <td>None</td>\n",
       "      <td>166000.0</td>\n",
       "    </tr>\n",
       "    <tr>\n",
       "      <th>1</th>\n",
       "      <td>375708417</td>\n",
       "      <td>Соломенский район</td>\n",
       "      <td>160.0</td>\n",
       "      <td>3.0</td>\n",
       "      <td>None</td>\n",
       "      <td>None</td>\n",
       "      <td>None</td>\n",
       "      <td>44200.0</td>\n",
       "    </tr>\n",
       "    <tr>\n",
       "      <th>2</th>\n",
       "      <td>375687794</td>\n",
       "      <td>Голосеевский район</td>\n",
       "      <td>125.0</td>\n",
       "      <td>3.0</td>\n",
       "      <td>None</td>\n",
       "      <td>метро Олимпийская (Республиканский стадион), м...</td>\n",
       "      <td>Парк-холл Горький</td>\n",
       "      <td>49800.0</td>\n",
       "    </tr>\n",
       "    <tr>\n",
       "      <th>3</th>\n",
       "      <td>375594849</td>\n",
       "      <td>Печерский район</td>\n",
       "      <td>118.0</td>\n",
       "      <td>3.0</td>\n",
       "      <td>None</td>\n",
       "      <td>метро Печерская</td>\n",
       "      <td>None</td>\n",
       "      <td>71900.0</td>\n",
       "    </tr>\n",
       "    <tr>\n",
       "      <th>4</th>\n",
       "      <td>375335493</td>\n",
       "      <td>Печерский район</td>\n",
       "      <td>150.0</td>\n",
       "      <td>3.0</td>\n",
       "      <td>None</td>\n",
       "      <td>метро Майдан Незалежности, метро Арсенальная, ...</td>\n",
       "      <td>Липская Башня</td>\n",
       "      <td>138000.0</td>\n",
       "    </tr>\n",
       "  </tbody>\n",
       "</table>\n",
       "</div>"
      ],
      "text/plain": [
       "   id_object       object_region  object_square  rooms_number floor  \\\n",
       "0  375726424                None          228.0           7.0  None   \n",
       "1  375708417   Соломенский район          160.0           3.0  None   \n",
       "2  375687794  Голосеевский район          125.0           3.0  None   \n",
       "3  375594849     Печерский район          118.0           3.0  None   \n",
       "4  375335493     Печерский район          150.0           3.0  None   \n",
       "\n",
       "                                              subway     living_complex  \\\n",
       "0  метро Площадь Льва Толстого, метро Олимпийская...               None   \n",
       "1                                               None               None   \n",
       "2  метро Олимпийская (Республиканский стадион), м...  Парк-холл Горький   \n",
       "3                                    метро Печерская               None   \n",
       "4  метро Майдан Незалежности, метро Арсенальная, ...      Липская Башня   \n",
       "\n",
       "      price  \n",
       "0  166000.0  \n",
       "1   44200.0  \n",
       "2   49800.0  \n",
       "3   71900.0  \n",
       "4  138000.0  "
      ]
     },
     "execution_count": 325,
     "metadata": {},
     "output_type": "execute_result"
    }
   ],
   "source": [
    "df.head()"
   ]
  },
  {
   "cell_type": "code",
   "execution_count": 327,
   "metadata": {},
   "outputs": [],
   "source": [
    "df = df[df.notnull()['floor']]"
   ]
  },
  {
   "cell_type": "code",
   "execution_count": 328,
   "metadata": {},
   "outputs": [
    {
     "data": {
      "text/plain": [
       "id_object            0\n",
       "object_region      166\n",
       "object_square        0\n",
       "rooms_number         0\n",
       "floor                0\n",
       "subway            1930\n",
       "living_complex    3022\n",
       "price                0\n",
       "dtype: int64"
      ]
     },
     "execution_count": 328,
     "metadata": {},
     "output_type": "execute_result"
    }
   ],
   "source": [
    "df.isnull().sum()"
   ]
  },
  {
   "cell_type": "code",
   "execution_count": 329,
   "metadata": {},
   "outputs": [],
   "source": [
    "df = df[df.notnull()['object_region']]"
   ]
  },
  {
   "cell_type": "code",
   "execution_count": 330,
   "metadata": {},
   "outputs": [
    {
     "data": {
      "text/plain": [
       "Печерский район         1193\n",
       "Шевченковский район      766\n",
       "Голосеевский район       435\n",
       "Дарницкий район          421\n",
       "Соломенский район        370\n",
       "Днепровский район        306\n",
       "Оболонский район         250\n",
       "Подольский район         227\n",
       "Святошинский район       178\n",
       "Деснянский район          95\n",
       "Голосеевский (центр)      95\n",
       "Name: object_region, dtype: int64"
      ]
     },
     "execution_count": 330,
     "metadata": {},
     "output_type": "execute_result"
    }
   ],
   "source": [
    "df['object_region'].value_counts()"
   ]
  },
  {
   "cell_type": "code",
   "execution_count": 25,
   "metadata": {},
   "outputs": [
    {
     "name": "stdout",
     "output_type": "stream",
     "text": [
      "          total transport infrastructure  rest security   eko\n",
      "Голосіїв   10.0      10.0           10.0  10.0     10.0  10.0\n",
      "Оболонь     9.7       9.7            9.9   9.8      9.7   9.6\n",
      "Мишоловка   9.6       8.0           10.0  10.0     10.0  10.0\n",
      "Теремки-2   9.0       9.0            9.0   9.0      9.0   9.0\n",
      "Китаїв      8.7       8.8            6.0   9.3      9.5  10.0\n",
      "...         ...       ...            ...   ...      ...   ...\n",
      "Монтажник   1.0       1.0            1.0   1.0      1.0   1.0\n",
      "Жовтневе    1.0       1.0            1.0   1.0      1.0   1.0\n",
      "Петрівка    1.0       1.0            1.0   1.0      1.0   1.0\n",
      "Перемога    1.0       1.0            1.0   1.0      1.0   1.0\n",
      "Кудрявець   1.0       1.0            1.0   1.0      1.0   1.0\n",
      "\n",
      "[99 rows x 6 columns]\n"
     ]
    }
   ],
   "source": [
    "import pickle\n",
    "\n",
    "pickle_off = open(\"districts.pickle\",\"rb\")\n",
    "districts = pickle.load(pickle_off)\n",
    "pickle_off.close()\n",
    "print(districts)"
   ]
  },
  {
   "cell_type": "code",
   "execution_count": 331,
   "metadata": {},
   "outputs": [
    {
     "data": {
      "text/plain": [
       "8.4    1193\n",
       "7.6     766\n",
       "10      530\n",
       "7.2     421\n",
       "7.5     370\n",
       "7.0     306\n",
       "9.7     250\n",
       "7.9     227\n",
       "6.8     178\n",
       "5.8      95\n",
       "Name: object_region, dtype: int64"
      ]
     },
     "execution_count": 331,
     "metadata": {},
     "output_type": "execute_result"
    }
   ],
   "source": [
    "df['object_region'] = df['object_region'].replace(['Печерский район'],'8.4')\n",
    "df['object_region'] = df['object_region'].replace(['Шевченковский район'],'7.6')\n",
    "df['object_region'] = df['object_region'].replace(['Голосеевский район', 'Голосеевский (центр)'],'10')\n",
    "df['object_region'] = df['object_region'].replace(['Дарницкий район'],'7.2')\n",
    "df['object_region'] = df['object_region'].replace(['Соломенский район'],'7.5')\n",
    "df['object_region'] = df['object_region'].replace(['Днепровский район'],'7.0')\n",
    "df['object_region'] = df['object_region'].replace(['Оболонский район'],'9.7')\n",
    "df['object_region'] = df['object_region'].replace(['Подольский район'],'7.9')\n",
    "df['object_region'] = df['object_region'].replace(['Святошинский район'],'6.8')\n",
    "df['object_region'] = df['object_region'].replace(['Деснянский район'],'5.8')\n",
    "df['object_region'].value_counts()"
   ]
  },
  {
   "cell_type": "code",
   "execution_count": 332,
   "metadata": {},
   "outputs": [
    {
     "name": "stdout",
     "output_type": "stream",
     "text": [
      "<class 'pandas.core.frame.DataFrame'>\n",
      "Int64Index: 4336 entries, 7 to 8578\n",
      "Data columns (total 8 columns):\n",
      " #   Column          Non-Null Count  Dtype  \n",
      "---  ------          --------------  -----  \n",
      " 0   id_object       4336 non-null   object \n",
      " 1   object_region   4336 non-null   object \n",
      " 2   object_square   4336 non-null   float64\n",
      " 3   rooms_number    4336 non-null   float64\n",
      " 4   floor           4336 non-null   object \n",
      " 5   subway          2489 non-null   object \n",
      " 6   living_complex  1426 non-null   object \n",
      " 7   price           4336 non-null   float64\n",
      "dtypes: float64(3), object(5)\n",
      "memory usage: 304.9+ KB\n"
     ]
    }
   ],
   "source": [
    "df.info()"
   ]
  },
  {
   "cell_type": "code",
   "execution_count": 333,
   "metadata": {},
   "outputs": [
    {
     "data": {
      "text/plain": [
       "0.0    2910\n",
       "1.0    1426\n",
       "Name: living_complex, dtype: int64"
      ]
     },
     "execution_count": 333,
     "metadata": {},
     "output_type": "execute_result"
    }
   ],
   "source": [
    "f = lambda x: 0.0 if x==None else 1.0\n",
    "df['living_complex'] = df['living_complex'].map(f)\n",
    "\n",
    "df['living_complex'].value_counts()"
   ]
  },
  {
   "cell_type": "code",
   "execution_count": 334,
   "metadata": {},
   "outputs": [
    {
     "data": {
      "text/plain": [
       "3.0    2489\n",
       "2.0    1847\n",
       "Name: subway, dtype: int64"
      ]
     },
     "execution_count": 334,
     "metadata": {},
     "output_type": "execute_result"
    }
   ],
   "source": [
    "d = lambda x: 2.0 if x==None else 3.0\n",
    "df['subway'] = df['subway'].map(d)\n",
    "\n",
    "\n",
    "df['subway'].value_counts()"
   ]
  },
  {
   "cell_type": "code",
   "execution_count": 335,
   "metadata": {},
   "outputs": [
    {
     "name": "stdout",
     "output_type": "stream",
     "text": [
      "<class 'pandas.core.frame.DataFrame'>\n",
      "Int64Index: 4336 entries, 7 to 8578\n",
      "Data columns (total 8 columns):\n",
      " #   Column          Non-Null Count  Dtype  \n",
      "---  ------          --------------  -----  \n",
      " 0   id_object       4336 non-null   object \n",
      " 1   object_region   4336 non-null   object \n",
      " 2   object_square   4336 non-null   float64\n",
      " 3   rooms_number    4336 non-null   float64\n",
      " 4   floor           4336 non-null   object \n",
      " 5   subway          4336 non-null   float64\n",
      " 6   living_complex  4336 non-null   float64\n",
      " 7   price           4336 non-null   float64\n",
      "dtypes: float64(5), object(3)\n",
      "memory usage: 304.9+ KB\n"
     ]
    }
   ],
   "source": [
    "df.info()"
   ]
  },
  {
   "cell_type": "code",
   "execution_count": 336,
   "metadata": {},
   "outputs": [],
   "source": [
    "df = df.loc[df['floor'] != 'бельэтаж']"
   ]
  },
  {
   "cell_type": "code",
   "execution_count": 337,
   "metadata": {
    "scrolled": true
   },
   "outputs": [
    {
     "data": {
      "text/plain": [
       "id_object          object\n",
       "object_region     float64\n",
       "object_square     float64\n",
       "rooms_number      float64\n",
       "floor             float64\n",
       "subway            float64\n",
       "living_complex    float64\n",
       "price             float64\n",
       "dtype: object"
      ]
     },
     "execution_count": 337,
     "metadata": {},
     "output_type": "execute_result"
    }
   ],
   "source": [
    "df.astype({'object_region': 'float64', 'object_square': 'float64', 'floor': 'float64'}).dtypes"
   ]
  },
  {
   "cell_type": "code",
   "execution_count": 338,
   "metadata": {},
   "outputs": [],
   "source": [
    "df.loc[df['object_region'] == '5.8', 'subway'] = 1.0"
   ]
  },
  {
   "cell_type": "code",
   "execution_count": 339,
   "metadata": {},
   "outputs": [
    {
     "data": {
      "text/plain": [
       "3.0    2484\n",
       "2.0    1756\n",
       "1.0      95\n",
       "Name: subway, dtype: int64"
      ]
     },
     "execution_count": 339,
     "metadata": {},
     "output_type": "execute_result"
    }
   ],
   "source": [
    "df['subway'].value_counts()"
   ]
  },
  {
   "cell_type": "code",
   "execution_count": 340,
   "metadata": {},
   "outputs": [
    {
     "data": {
      "text/html": [
       "<div>\n",
       "<style scoped>\n",
       "    .dataframe tbody tr th:only-of-type {\n",
       "        vertical-align: middle;\n",
       "    }\n",
       "\n",
       "    .dataframe tbody tr th {\n",
       "        vertical-align: top;\n",
       "    }\n",
       "\n",
       "    .dataframe thead th {\n",
       "        text-align: right;\n",
       "    }\n",
       "</style>\n",
       "<table border=\"1\" class=\"dataframe\">\n",
       "  <thead>\n",
       "    <tr style=\"text-align: right;\">\n",
       "      <th></th>\n",
       "      <th>id_object</th>\n",
       "      <th>object_region</th>\n",
       "      <th>object_square</th>\n",
       "      <th>rooms_number</th>\n",
       "      <th>floor</th>\n",
       "      <th>subway</th>\n",
       "      <th>living_complex</th>\n",
       "      <th>price</th>\n",
       "    </tr>\n",
       "  </thead>\n",
       "  <tbody>\n",
       "    <tr>\n",
       "      <th>7</th>\n",
       "      <td>375627326</td>\n",
       "      <td>9.7</td>\n",
       "      <td>34.0</td>\n",
       "      <td>1.0</td>\n",
       "      <td>16</td>\n",
       "      <td>3.0</td>\n",
       "      <td>0.0</td>\n",
       "      <td>11500.0</td>\n",
       "    </tr>\n",
       "    <tr>\n",
       "      <th>9</th>\n",
       "      <td>375690077</td>\n",
       "      <td>10</td>\n",
       "      <td>51.0</td>\n",
       "      <td>2.0</td>\n",
       "      <td>1</td>\n",
       "      <td>2.0</td>\n",
       "      <td>0.0</td>\n",
       "      <td>11000.0</td>\n",
       "    </tr>\n",
       "    <tr>\n",
       "      <th>10</th>\n",
       "      <td>375746441</td>\n",
       "      <td>8.4</td>\n",
       "      <td>57.0</td>\n",
       "      <td>2.0</td>\n",
       "      <td>6</td>\n",
       "      <td>3.0</td>\n",
       "      <td>0.0</td>\n",
       "      <td>23500.0</td>\n",
       "    </tr>\n",
       "    <tr>\n",
       "      <th>12</th>\n",
       "      <td>375736928</td>\n",
       "      <td>10</td>\n",
       "      <td>70.0</td>\n",
       "      <td>2.0</td>\n",
       "      <td>16</td>\n",
       "      <td>3.0</td>\n",
       "      <td>1.0</td>\n",
       "      <td>27700.0</td>\n",
       "    </tr>\n",
       "    <tr>\n",
       "      <th>14</th>\n",
       "      <td>375707487</td>\n",
       "      <td>6.8</td>\n",
       "      <td>41.0</td>\n",
       "      <td>1.0</td>\n",
       "      <td>15</td>\n",
       "      <td>2.0</td>\n",
       "      <td>0.0</td>\n",
       "      <td>10000.0</td>\n",
       "    </tr>\n",
       "  </tbody>\n",
       "</table>\n",
       "</div>"
      ],
      "text/plain": [
       "    id_object object_region  object_square  rooms_number floor  subway  \\\n",
       "7   375627326           9.7           34.0           1.0    16     3.0   \n",
       "9   375690077            10           51.0           2.0     1     2.0   \n",
       "10  375746441           8.4           57.0           2.0     6     3.0   \n",
       "12  375736928            10           70.0           2.0    16     3.0   \n",
       "14  375707487           6.8           41.0           1.0    15     2.0   \n",
       "\n",
       "    living_complex    price  \n",
       "7              0.0  11500.0  \n",
       "9              0.0  11000.0  \n",
       "10             0.0  23500.0  \n",
       "12             1.0  27700.0  \n",
       "14             0.0  10000.0  "
      ]
     },
     "execution_count": 340,
     "metadata": {},
     "output_type": "execute_result"
    }
   ],
   "source": [
    "df.head()"
   ]
  },
  {
   "cell_type": "code",
   "execution_count": 341,
   "metadata": {},
   "outputs": [],
   "source": [
    "df = df.drop(columns=\"id_object\")"
   ]
  },
  {
   "cell_type": "code",
   "execution_count": 342,
   "metadata": {},
   "outputs": [],
   "source": [
    "df = df[df['object_square'] < 2000]"
   ]
  },
  {
   "cell_type": "code",
   "execution_count": 343,
   "metadata": {},
   "outputs": [],
   "source": [
    "df = df[df['price'] < 1000000]"
   ]
  },
  {
   "cell_type": "code",
   "execution_count": 344,
   "metadata": {},
   "outputs": [
    {
     "name": "stdout",
     "output_type": "stream",
     "text": [
      "<class 'pandas.core.frame.DataFrame'>\n",
      "Int64Index: 4331 entries, 7 to 8578\n",
      "Data columns (total 7 columns):\n",
      " #   Column          Non-Null Count  Dtype  \n",
      "---  ------          --------------  -----  \n",
      " 0   object_region   4331 non-null   object \n",
      " 1   object_square   4331 non-null   float64\n",
      " 2   rooms_number    4331 non-null   float64\n",
      " 3   floor           4331 non-null   object \n",
      " 4   subway          4331 non-null   float64\n",
      " 5   living_complex  4331 non-null   float64\n",
      " 6   price           4331 non-null   float64\n",
      "dtypes: float64(5), object(2)\n",
      "memory usage: 270.7+ KB\n"
     ]
    }
   ],
   "source": [
    "df.info()"
   ]
  },
  {
   "cell_type": "code",
   "execution_count": 345,
   "metadata": {},
   "outputs": [
    {
     "data": {
      "text/html": [
       "<div>\n",
       "<style scoped>\n",
       "    .dataframe tbody tr th:only-of-type {\n",
       "        vertical-align: middle;\n",
       "    }\n",
       "\n",
       "    .dataframe tbody tr th {\n",
       "        vertical-align: top;\n",
       "    }\n",
       "\n",
       "    .dataframe thead th {\n",
       "        text-align: right;\n",
       "    }\n",
       "</style>\n",
       "<table border=\"1\" class=\"dataframe\">\n",
       "  <thead>\n",
       "    <tr style=\"text-align: right;\">\n",
       "      <th></th>\n",
       "      <th>object_square</th>\n",
       "      <th>rooms_number</th>\n",
       "      <th>subway</th>\n",
       "      <th>living_complex</th>\n",
       "      <th>price</th>\n",
       "    </tr>\n",
       "  </thead>\n",
       "  <tbody>\n",
       "    <tr>\n",
       "      <th>count</th>\n",
       "      <td>4331.000000</td>\n",
       "      <td>4331.000000</td>\n",
       "      <td>4331.000000</td>\n",
       "      <td>4331.000000</td>\n",
       "      <td>4331.000000</td>\n",
       "    </tr>\n",
       "    <tr>\n",
       "      <th>mean</th>\n",
       "      <td>80.190949</td>\n",
       "      <td>2.220965</td>\n",
       "      <td>2.551374</td>\n",
       "      <td>0.329254</td>\n",
       "      <td>33082.888478</td>\n",
       "    </tr>\n",
       "    <tr>\n",
       "      <th>std</th>\n",
       "      <td>56.002780</td>\n",
       "      <td>1.104007</td>\n",
       "      <td>0.539720</td>\n",
       "      <td>0.469997</td>\n",
       "      <td>42970.867814</td>\n",
       "    </tr>\n",
       "    <tr>\n",
       "      <th>min</th>\n",
       "      <td>16.000000</td>\n",
       "      <td>1.000000</td>\n",
       "      <td>1.000000</td>\n",
       "      <td>0.000000</td>\n",
       "      <td>5000.000000</td>\n",
       "    </tr>\n",
       "    <tr>\n",
       "      <th>25%</th>\n",
       "      <td>49.000000</td>\n",
       "      <td>1.000000</td>\n",
       "      <td>2.000000</td>\n",
       "      <td>0.000000</td>\n",
       "      <td>13000.000000</td>\n",
       "    </tr>\n",
       "    <tr>\n",
       "      <th>50%</th>\n",
       "      <td>65.000000</td>\n",
       "      <td>2.000000</td>\n",
       "      <td>3.000000</td>\n",
       "      <td>0.000000</td>\n",
       "      <td>22100.000000</td>\n",
       "    </tr>\n",
       "    <tr>\n",
       "      <th>75%</th>\n",
       "      <td>91.500000</td>\n",
       "      <td>3.000000</td>\n",
       "      <td>3.000000</td>\n",
       "      <td>1.000000</td>\n",
       "      <td>35900.000000</td>\n",
       "    </tr>\n",
       "    <tr>\n",
       "      <th>max</th>\n",
       "      <td>1100.000000</td>\n",
       "      <td>25.000000</td>\n",
       "      <td>3.000000</td>\n",
       "      <td>1.000000</td>\n",
       "      <td>719000.000000</td>\n",
       "    </tr>\n",
       "  </tbody>\n",
       "</table>\n",
       "</div>"
      ],
      "text/plain": [
       "       object_square  rooms_number       subway  living_complex          price\n",
       "count    4331.000000   4331.000000  4331.000000     4331.000000    4331.000000\n",
       "mean       80.190949      2.220965     2.551374        0.329254   33082.888478\n",
       "std        56.002780      1.104007     0.539720        0.469997   42970.867814\n",
       "min        16.000000      1.000000     1.000000        0.000000    5000.000000\n",
       "25%        49.000000      1.000000     2.000000        0.000000   13000.000000\n",
       "50%        65.000000      2.000000     3.000000        0.000000   22100.000000\n",
       "75%        91.500000      3.000000     3.000000        1.000000   35900.000000\n",
       "max      1100.000000     25.000000     3.000000        1.000000  719000.000000"
      ]
     },
     "execution_count": 345,
     "metadata": {},
     "output_type": "execute_result"
    }
   ],
   "source": [
    "df.describe()"
   ]
  },
  {
   "cell_type": "code",
   "execution_count": 350,
   "metadata": {},
   "outputs": [],
   "source": [
    "rent = df"
   ]
  },
  {
   "cell_type": "code",
   "execution_count": 351,
   "metadata": {},
   "outputs": [],
   "source": [
    "rent = rent[rent['price'] < 200000]"
   ]
  },
  {
   "cell_type": "code",
   "execution_count": 352,
   "metadata": {},
   "outputs": [
    {
     "name": "stdout",
     "output_type": "stream",
     "text": [
      "<class 'pandas.core.frame.DataFrame'>\n",
      "Int64Index: 4296 entries, 7 to 8578\n",
      "Data columns (total 7 columns):\n",
      " #   Column          Non-Null Count  Dtype  \n",
      "---  ------          --------------  -----  \n",
      " 0   object_region   4296 non-null   object \n",
      " 1   object_square   4296 non-null   float64\n",
      " 2   rooms_number    4296 non-null   float64\n",
      " 3   floor           4296 non-null   object \n",
      " 4   subway          4296 non-null   float64\n",
      " 5   living_complex  4296 non-null   float64\n",
      " 6   price           4296 non-null   float64\n",
      "dtypes: float64(5), object(2)\n",
      "memory usage: 268.5+ KB\n"
     ]
    }
   ],
   "source": [
    "rent.info()"
   ]
  },
  {
   "cell_type": "code",
   "execution_count": 356,
   "metadata": {},
   "outputs": [
    {
     "data": {
      "text/html": [
       "<div>\n",
       "<style scoped>\n",
       "    .dataframe tbody tr th:only-of-type {\n",
       "        vertical-align: middle;\n",
       "    }\n",
       "\n",
       "    .dataframe tbody tr th {\n",
       "        vertical-align: top;\n",
       "    }\n",
       "\n",
       "    .dataframe thead th {\n",
       "        text-align: right;\n",
       "    }\n",
       "</style>\n",
       "<table border=\"1\" class=\"dataframe\">\n",
       "  <thead>\n",
       "    <tr style=\"text-align: right;\">\n",
       "      <th></th>\n",
       "      <th>object_square</th>\n",
       "      <th>rooms_number</th>\n",
       "      <th>subway</th>\n",
       "      <th>living_complex</th>\n",
       "      <th>price</th>\n",
       "    </tr>\n",
       "  </thead>\n",
       "  <tbody>\n",
       "    <tr>\n",
       "      <th>count</th>\n",
       "      <td>4296.000000</td>\n",
       "      <td>4296.000000</td>\n",
       "      <td>4296.000000</td>\n",
       "      <td>4296.000000</td>\n",
       "      <td>4296.000000</td>\n",
       "    </tr>\n",
       "    <tr>\n",
       "      <th>mean</th>\n",
       "      <td>78.409008</td>\n",
       "      <td>2.204143</td>\n",
       "      <td>2.549581</td>\n",
       "      <td>0.328911</td>\n",
       "      <td>30317.967877</td>\n",
       "    </tr>\n",
       "    <tr>\n",
       "      <th>std</th>\n",
       "      <td>49.363353</td>\n",
       "      <td>1.079167</td>\n",
       "      <td>0.540219</td>\n",
       "      <td>0.469872</td>\n",
       "      <td>27393.649948</td>\n",
       "    </tr>\n",
       "    <tr>\n",
       "      <th>min</th>\n",
       "      <td>16.000000</td>\n",
       "      <td>1.000000</td>\n",
       "      <td>1.000000</td>\n",
       "      <td>0.000000</td>\n",
       "      <td>5000.000000</td>\n",
       "    </tr>\n",
       "    <tr>\n",
       "      <th>25%</th>\n",
       "      <td>48.100000</td>\n",
       "      <td>1.000000</td>\n",
       "      <td>2.000000</td>\n",
       "      <td>0.000000</td>\n",
       "      <td>13000.000000</td>\n",
       "    </tr>\n",
       "    <tr>\n",
       "      <th>50%</th>\n",
       "      <td>65.000000</td>\n",
       "      <td>2.000000</td>\n",
       "      <td>3.000000</td>\n",
       "      <td>0.000000</td>\n",
       "      <td>22100.000000</td>\n",
       "    </tr>\n",
       "    <tr>\n",
       "      <th>75%</th>\n",
       "      <td>90.000000</td>\n",
       "      <td>3.000000</td>\n",
       "      <td>3.000000</td>\n",
       "      <td>1.000000</td>\n",
       "      <td>35900.000000</td>\n",
       "    </tr>\n",
       "    <tr>\n",
       "      <th>max</th>\n",
       "      <td>850.000000</td>\n",
       "      <td>25.000000</td>\n",
       "      <td>3.000000</td>\n",
       "      <td>1.000000</td>\n",
       "      <td>194000.000000</td>\n",
       "    </tr>\n",
       "  </tbody>\n",
       "</table>\n",
       "</div>"
      ],
      "text/plain": [
       "       object_square  rooms_number       subway  living_complex          price\n",
       "count    4296.000000   4296.000000  4296.000000     4296.000000    4296.000000\n",
       "mean       78.409008      2.204143     2.549581        0.328911   30317.967877\n",
       "std        49.363353      1.079167     0.540219        0.469872   27393.649948\n",
       "min        16.000000      1.000000     1.000000        0.000000    5000.000000\n",
       "25%        48.100000      1.000000     2.000000        0.000000   13000.000000\n",
       "50%        65.000000      2.000000     3.000000        0.000000   22100.000000\n",
       "75%        90.000000      3.000000     3.000000        1.000000   35900.000000\n",
       "max       850.000000     25.000000     3.000000        1.000000  194000.000000"
      ]
     },
     "execution_count": 356,
     "metadata": {},
     "output_type": "execute_result"
    }
   ],
   "source": [
    "# фінальний датафрейм\n",
    "\n",
    "rent.describe()"
   ]
  },
  {
   "cell_type": "code",
   "execution_count": 297,
   "metadata": {},
   "outputs": [],
   "source": [
    "import pandas as pd\n",
    "import numpy as np\n",
    "import matplotlib.pyplot as plt\n",
    "import seaborn as sns\n",
    "%matplotlib inline"
   ]
  },
  {
   "cell_type": "code",
   "execution_count": 353,
   "metadata": {},
   "outputs": [
    {
     "data": {
      "text/plain": [
       "<seaborn.axisgrid.PairGrid at 0x1834dd30>"
      ]
     },
     "execution_count": 353,
     "metadata": {},
     "output_type": "execute_result"
    },
    {
     "data": {
      "image/png": "[encoded data removed]",
      "text/plain": [
       "<Figure size 1080x1080 with 42 Axes>"
      ]
     },
     "metadata": {
      "needs_background": "light"
     },
     "output_type": "display_data"
    }
   ],
   "source": [
    "sns.pairplot(rent)"
   ]
  },
  {
   "cell_type": "code",
   "execution_count": 354,
   "metadata": {},
   "outputs": [
    {
     "data": {
      "text/plain": [
       "<seaborn.axisgrid.FacetGrid at 0x1adbc550>"
      ]
     },
     "execution_count": 354,
     "metadata": {},
     "output_type": "execute_result"
    },
    {
     "data": {
      "image/png": "[encoded data removed]",
      "text/plain": [
       "<Figure size 360x360 with 1 Axes>"
      ]
     },
     "metadata": {
      "needs_background": "light"
     },
     "output_type": "display_data"
    }
   ],
   "source": [
    "sns.lmplot(x='object_square',y='price',data=rent)"
   ]
  },
  {
   "cell_type": "code",
   "execution_count": 355,
   "metadata": {},
   "outputs": [
    {
     "name": "stderr",
     "output_type": "stream",
     "text": [
      "C:\\Users\\Alyona\\anaconda3\\lib\\site-packages\\seaborn\\distributions.py:2551: FutureWarning: `distplot` is a deprecated function and will be removed in a future version. Please adapt your code to use either `displot` (a figure-level function with similar flexibility) or `histplot` (an axes-level function for histograms).\n",
      "  warnings.warn(msg, FutureWarning)\n"
     ]
    },
    {
     "data": {
      "text/plain": [
       "<AxesSubplot:xlabel='price', ylabel='Density'>"
      ]
     },
     "execution_count": 355,
     "metadata": {},
     "output_type": "execute_result"
    },
    {
     "data": {
      "image/png": "[encoded data removed]",
      "text/plain": [
       "<Figure size 432x288 with 1 Axes>"
      ]
     },
     "metadata": {
      "needs_background": "light"
     },
     "output_type": "display_data"
    }
   ],
   "source": [
    "sns.distplot(rent['price'])"
   ]
  },
  {
   "cell_type": "code",
   "execution_count": 423,
   "metadata": {},
   "outputs": [],
   "source": [
    "X = rent[['object_region', 'object_square', 'rooms_number', \n",
    "          'floor', 'subway', 'living_complex']]\n",
    "y = rent['price']"
   ]
  },
  {
   "cell_type": "code",
   "execution_count": 424,
   "metadata": {},
   "outputs": [],
   "source": [
    "from sklearn.model_selection import train_test_split\n",
    "X_train, X_test, y_train, y_test = train_test_split(X, y, test_size=0.2)"
   ]
  },
  {
   "cell_type": "code",
   "execution_count": 425,
   "metadata": {},
   "outputs": [
    {
     "data": {
      "text/plain": [
       "LinearRegression()"
      ]
     },
     "execution_count": 425,
     "metadata": {},
     "output_type": "execute_result"
    }
   ],
   "source": [
    "from sklearn.linear_model import LinearRegression\n",
    "\n",
    "lm = LinearRegression()\n",
    "lm.fit(X_train,y_train)"
   ]
  },
  {
   "cell_type": "code",
   "execution_count": 426,
   "metadata": {},
   "outputs": [
    {
     "data": {
      "text/plain": [
       "array([ 878.4240505 ,  317.82607275, 3106.72910615,   64.75792226,\n",
       "       7601.23500794, 9931.67682821])"
      ]
     },
     "execution_count": 426,
     "metadata": {},
     "output_type": "execute_result"
    }
   ],
   "source": [
    "lm.coef_"
   ]
  },
  {
   "cell_type": "code",
   "execution_count": 427,
   "metadata": {},
   "outputs": [
    {
     "data": {
      "text/plain": [
       "0.5889851949267007"
      ]
     },
     "execution_count": 427,
     "metadata": {},
     "output_type": "execute_result"
    }
   ],
   "source": [
    "lm.score(X_train,y_train)"
   ]
  },
  {
   "cell_type": "code",
   "execution_count": 428,
   "metadata": {},
   "outputs": [
    {
     "data": {
      "text/html": [
       "<div>\n",
       "<style scoped>\n",
       "    .dataframe tbody tr th:only-of-type {\n",
       "        vertical-align: middle;\n",
       "    }\n",
       "\n",
       "    .dataframe tbody tr th {\n",
       "        vertical-align: top;\n",
       "    }\n",
       "\n",
       "    .dataframe thead th {\n",
       "        text-align: right;\n",
       "    }\n",
       "</style>\n",
       "<table border=\"1\" class=\"dataframe\">\n",
       "  <thead>\n",
       "    <tr style=\"text-align: right;\">\n",
       "      <th></th>\n",
       "      <th>Coefficient</th>\n",
       "    </tr>\n",
       "  </thead>\n",
       "  <tbody>\n",
       "    <tr>\n",
       "      <th>object_region</th>\n",
       "      <td>878.424050</td>\n",
       "    </tr>\n",
       "    <tr>\n",
       "      <th>object_square</th>\n",
       "      <td>317.826073</td>\n",
       "    </tr>\n",
       "    <tr>\n",
       "      <th>rooms_number</th>\n",
       "      <td>3106.729106</td>\n",
       "    </tr>\n",
       "    <tr>\n",
       "      <th>floor</th>\n",
       "      <td>64.757922</td>\n",
       "    </tr>\n",
       "    <tr>\n",
       "      <th>subway</th>\n",
       "      <td>7601.235008</td>\n",
       "    </tr>\n",
       "    <tr>\n",
       "      <th>living_complex</th>\n",
       "      <td>9931.676828</td>\n",
       "    </tr>\n",
       "  </tbody>\n",
       "</table>\n",
       "</div>"
      ],
      "text/plain": [
       "                Coefficient\n",
       "object_region    878.424050\n",
       "object_square    317.826073\n",
       "rooms_number    3106.729106\n",
       "floor             64.757922\n",
       "subway          7601.235008\n",
       "living_complex  9931.676828"
      ]
     },
     "execution_count": 428,
     "metadata": {},
     "output_type": "execute_result"
    }
   ],
   "source": [
    "coeff_rent = pd.DataFrame(lm.coef_,X.columns,columns=['Coefficient'])\n",
    "coeff_rent"
   ]
  },
  {
   "cell_type": "code",
   "execution_count": 429,
   "metadata": {},
   "outputs": [
    {
     "data": {
      "text/plain": [
       "0.6380717804251155"
      ]
     },
     "execution_count": 429,
     "metadata": {},
     "output_type": "execute_result"
    }
   ],
   "source": [
    "# predictions = lm.predict(X_test)\n",
    "lm.score(X_test, y_test)"
   ]
  },
  {
   "cell_type": "code",
   "execution_count": 430,
   "metadata": {},
   "outputs": [],
   "source": [
    "predictions = lm.predict(X_test)"
   ]
  },
  {
   "cell_type": "code",
   "execution_count": 431,
   "metadata": {},
   "outputs": [
    {
     "name": "stdout",
     "output_type": "stream",
     "text": [
      "MAE: 10218.017828386484\n",
      "MSE: 273608633.221092\n",
      "RMSE: 16541.11946698566\n"
     ]
    }
   ],
   "source": [
    "from sklearn import metrics\n",
    "print('MAE:', metrics.mean_absolute_error(y_test, predictions))\n",
    "print('MSE:', metrics.mean_squared_error(y_test, predictions))\n",
    "print('RMSE:', np.sqrt(metrics.mean_squared_error(y_test, predictions)))"
   ]
  },
  {
   "cell_type": "code",
   "execution_count": 450,
   "metadata": {},
   "outputs": [
    {
     "data": {
      "text/plain": [
       "array([18458.12641279])"
      ]
     },
     "execution_count": 450,
     "metadata": {},
     "output_type": "execute_result"
    }
   ],
   "source": [
    "# передбачаємо ціну квартири в Оболонському районі, площа 60 м2, 2 кімнати, 19-ий поверх, 20 хв до метро, ЖК немає\n",
    "\n",
    "predictions = lm.predict(np.array([9.7, 60, 2, 19, 2, 0]).reshape(1, -1))\n",
    "predictions"
   ]
  },
  {
   "cell_type": "code",
   "execution_count": 436,
   "metadata": {},
   "outputs": [],
   "source": [
    "dict_with_result = {}"
   ]
  },
  {
   "cell_type": "code",
   "execution_count": 437,
   "metadata": {},
   "outputs": [
    {
     "name": "stdout",
     "output_type": "stream",
     "text": [
      "0.5889851949267007\n"
     ]
    }
   ],
   "source": [
    "from sklearn.linear_model import LinearRegression\n",
    "model_1 = LinearRegression()\n",
    "model_1.fit(X_train, y_train)\n",
    "print(model_1.score(X_train, y_train))\n",
    "\n",
    "dict_with_result['LinearRegression'] = f'Test R^2 = {round(model_1.score(X_test, y_test), 2)} '"
   ]
  },
  {
   "cell_type": "code",
   "execution_count": 444,
   "metadata": {},
   "outputs": [
    {
     "name": "stdout",
     "output_type": "stream",
     "text": [
      "0.710982255302747\n"
     ]
    }
   ],
   "source": [
    "from sklearn.tree import DecisionTreeRegressor\n",
    "model_2 = DecisionTreeRegressor(max_depth=5)\n",
    "model_2.fit(X_train, y_train)\n",
    "print(model_2.score(X_train, y_train))\n",
    "\n",
    "dict_with_result['DecisionTreeRegressor'] = f'Test R^2 = {round(model_2.score(X_test, y_test), 2)} '"
   ]
  },
  {
   "cell_type": "code",
   "execution_count": 445,
   "metadata": {},
   "outputs": [
    {
     "name": "stdout",
     "output_type": "stream",
     "text": [
      "0.9580231648773903\n"
     ]
    }
   ],
   "source": [
    "from sklearn.ensemble import RandomForestRegressor\n",
    "model_3 = RandomForestRegressor()\n",
    "model_3.fit(X_train, y_train)\n",
    "print(model_3.score(X_train, y_train))\n",
    "\n",
    "dict_with_result['RandomForestRegressor'] = f'Test R^2 = {round(model_3.score(X_test, y_test), 2)} '"
   ]
  },
  {
   "cell_type": "code",
   "execution_count": 446,
   "metadata": {},
   "outputs": [
    {
     "data": {
      "text/plain": [
       "{'LinearRegression': 'Test R^2 = 0.64 ',\n",
       " 'DecisionTreeRegressor': 'Test R^2 = 0.66 ',\n",
       " 'RandomForestRegressor': 'Test R^2 = 0.7 '}"
      ]
     },
     "execution_count": 446,
     "metadata": {},
     "output_type": "execute_result"
    }
   ],
   "source": [
    "dict_with_result"
   ]
  },
  {
   "cell_type": "code",
   "execution_count": 448,
   "metadata": {},
   "outputs": [
    {
     "data": {
      "text/plain": [
       "0.660865759283934"
      ]
     },
     "execution_count": 448,
     "metadata": {},
     "output_type": "execute_result"
    }
   ],
   "source": [
    "from sklearn.ensemble import StackingRegressor\n",
    "from sklearn.ensemble import VotingRegressor\n",
    "from sklearn.ensemble import AdaBoostRegressor\n",
    "\n",
    "model_1 = LinearRegression()\n",
    "model_2 = AdaBoostRegressor()\n",
    "model_3 = RandomForestRegressor()\n",
    "\n",
    "estimators = [('m2', model_1), ('m3', model_3)]\n",
    "\n",
    "reg = StackingRegressor(\n",
    "    estimators=estimators,\n",
    "    final_estimator=AdaBoostRegressor())\n",
    "\n",
    "reg.fit(X_train, y_train)\n",
    "\n",
    "reg.score(X_test, y_test)"
   ]
  },
  {
   "cell_type": "code",
   "execution_count": 449,
   "metadata": {},
   "outputs": [
    {
     "data": {
      "text/plain": [
       "0.4957106519347544"
      ]
     },
     "execution_count": 449,
     "metadata": {},
     "output_type": "execute_result"
    }
   ],
   "source": [
    "from sklearn.metrics import r2_score\n",
    "\n",
    "model_1 = LinearRegression()\n",
    "model_2 = AdaBoostRegressor()\n",
    "model_3 = RandomForestRegressor()\n",
    "\n",
    "model_1.fit(X_train, y_train)\n",
    "model_2.fit(X_train, y_train)\n",
    "model_3.fit(X_train, y_train)\n",
    "\n",
    "y_res = 0.2 * model_1.predict(X_test) + 0.5 * model_2.predict(X_test) + 0.3 * model_3.predict(X_test)\n",
    "\n",
    "r2_score(y_res, y_test)"
   ]
  },
  {
   "cell_type": "code",
   "execution_count": null,
   "metadata": {},
   "outputs": [],
   "source": []
  }
 ],
 "metadata": {
  "kernelspec": {
   "display_name": "Python 3",
   "language": "python",
   "name": "python3"
  },
  "language_info": {
   "codemirror_mode": {
    "name": "ipython",
    "version": 3
   },
   "file_extension": ".py",
   "mimetype": "text/x-python",
   "name": "python",
   "nbconvert_exporter": "python",
   "pygments_lexer": "ipython3",
   "version": "3.8.5"
  }
 },
 "nbformat": 4,
 "nbformat_minor": 4
}
