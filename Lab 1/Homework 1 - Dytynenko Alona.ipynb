{
 "cells": [
  {
   "cell_type": "markdown",
   "metadata": {},
   "source": [
    "# 1. Markdown cells\n",
    "\n",
    "* Hi! Its Main Academy?\n",
    "* All HTML tabs are supported!\n",
    "* Моя сторінка на лінкедін [Лінкедін](https://www.linkedin.com/)\n",
    "\n",
    "\n",
    "# This is Heading1\n",
    "\n",
    "## This is Heading2\n",
    "\n",
    "some gray colored text:\n",
    ">This is where we can bring qoutes and present them nicely\n",
    "\n",
    "And this is the paragraph about something very important. Even math:\n",
    "$$y_{sub} = \\sqrt x_{sub} $$\n",
    "\n",
    "Or python code example:\n",
    "    \n",
    "    import math\n",
    "    def foo():\n",
    "        return \"foo\""
   ]
  },
  {
   "cell_type": "markdown",
   "metadata": {},
   "source": [
    "Here is the sample mean: \n",
    "\\begin{equation}\n",
    "\\bar{y}=\\frac{1}{n}\\sum_{i=1}^{n}y^i\n",
    "\\end{equation}\n",
    "\n",
    "Here is the sample variance: \n",
    "\\begin{equation}\n",
    "\\sigma^2=\\frac{\\sum_{i=1}^{n}(y_{i}-\\bar{y})^2}{n-1}\n",
    "\\end{equation}\n",
    "\n",
    "Here is the sample standard deviation:\n",
    "\t\\begin{equation}\n",
    "\\sigma=\\sqrt\\frac{\\sum_{i=1}^{n}(y_{i}-\\bar{y})^2}{n-1}\n",
    "\\end{equation}"
   ]
  },
  {
   "cell_type": "code",
   "execution_count": null,
   "metadata": {},
   "outputs": [],
   "source": []
  }
 ],
 "metadata": {
  "kernelspec": {
   "display_name": "Python 3",
   "language": "python",
   "name": "python3"
  },
  "language_info": {
   "codemirror_mode": {
    "name": "ipython",
    "version": 3
   },
   "file_extension": ".py",
   "mimetype": "text/x-python",
   "name": "python",
   "nbconvert_exporter": "python",
   "pygments_lexer": "ipython3",
   "version": "3.8.5"
  }
 },
 "nbformat": 4,
 "nbformat_minor": 4
}
